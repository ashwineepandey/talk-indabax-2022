{
 "cells": [
  {
   "cell_type": "code",
   "execution_count": null,
   "metadata": {},
   "outputs": [],
   "source": []
  },
  {
   "cell_type": "markdown",
   "metadata": {},
   "source": [
    "# Problem\n",
    "\n",
    "Let us look at a problem that is a simple finite Markov Decision Process. \n",
    "Consider the following 5 x 5 grid:\n",
    "\n",
    "![Gridworld](imgs/Gridworld.png)\n",
    "\n",
    "## Define the problem\n",
    "\n",
    "- The cells of the grid correspond to the the states of the environment. \n",
    "- At each cell, 4 actions are possible: _north_, _south_, _east_, _west_ - which deterministically cause the agent to move 1 cell in the respective direction on the grid.\n",
    "- Actions that would the agent off the grid leave its location unchanges, but also result in a reward of -1.\n",
    "- From state A, any action yields a reward of +10 and takes the agent to A'.\n",
    "- From state B, any action yields a reward of +5 and takes the agent to B'.\n",
    "- All other actions result in a reward of 0.\n",
    "\n",
    "Find the Optimal Value Function using Q-Learning."
   ]
  },
  {
   "cell_type": "code",
   "execution_count": null,
   "metadata": {},
   "outputs": [],
   "source": [
    "@dataclass\n",
    "class Grid:\n",
    "    x_min: int\n",
    "    x_max: int\n",
    "    y_min: int\n",
    "    y_max: int\n",
    "    x_size: int\n",
    "    y_size: int\n",
    "\n",
    "@dataclass\n",
    "class Coordinate:\n",
    "    x: int\n",
    "    y: int\n",
    "\n",
    "@dataclass\n",
    "class Direction:\n",
    "    x: int\n",
    "    y: int"
   ]
  },
  {
   "cell_type": "code",
   "execution_count": null,
   "metadata": {},
   "outputs": [],
   "source": [
    "def _calc_reward(loc: Coordinate, grid: Grid, A, B) -> int:\n",
    "    \"\"\"\n",
    "    This function takes the location of a state and returns the reward for it.\n",
    "\n",
    "    Args:\n",
    "        loc: \n",
    "\n",
    "    \"\"\"\n",
    "    if loc == A: #Reward for position A\n",
    "        reward = 10\n",
    "    elif loc == B: #Reward for position B\n",
    "        reward = 5\n",
    "    elif loc.x < grid.x_min or loc.x > grid.x_max or loc.y < grid.y_min or loc.y > grid.y_max: #Negative reward outside grid\n",
    "        reward = -1\n",
    "    else: # Reward for all other states\n",
    "        reward = 0\n",
    "    return reward"
   ]
  },
  {
   "cell_type": "code",
   "execution_count": null,
   "metadata": {},
   "outputs": [],
   "source": [
    "def is_valid_loc(loc: Coordinate, grid: Grid) -> bool:\n",
    "    if loc.x < grid.x_min or loc.x > grid.x_max or loc.y < grid.y_min or loc.y > grid.y_max:\n",
    "        return False\n",
    "    else:\n",
    "        return True"
   ]
  },
  {
   "cell_type": "code",
   "execution_count": null,
   "metadata": {},
   "outputs": [],
   "source": [
    "def move(loc: Coordinate, action: int) -> (tuple, float):\n",
    "    loc = Coordinate(loc[0], loc[1]) #Convert to Coordinate object for convenience\n",
    "    A = Coordinate(1, 0) # Define special state A\n",
    "    B = Coordinate(3, 0) # Define special state B\n",
    "    Ap = Coordinate(1, 4) # Define special state A prime\n",
    "    Bp = Coordinate(3, 2) # Define special state B prime\n",
    "    reward = _calc_reward(loc, grid, A, B)\n",
    "    if loc == A:\n",
    "        proposed_loc = Ap\n",
    "    elif loc == B:\n",
    "        proposed_loc = Bp\n",
    "    else:\n",
    "        if action == 0:\n",
    "            proposed_loc = Coordinate(loc.x, loc.y - 1)\n",
    "        elif action == 1:\n",
    "            proposed_loc = Coordinate(loc.x, loc.y + 1)\n",
    "        elif action == 2:\n",
    "            proposed_loc = Coordinate(loc.x + 1, loc.y)\n",
    "        elif action == 3:\n",
    "            proposed_loc = Coordinate(loc.x - 1, loc.y)\n",
    "\n",
    "    if is_valid_loc(proposed_loc, grid):\n",
    "        next_loc = proposed_loc\n",
    "    else:\n",
    "        next_loc = loc\n",
    "    \n",
    "    next_loc = tuple((next_loc.x, next_loc.y)) #Convert to tuple object for dict\n",
    "    return next_loc, reward"
   ]
  },
  {
   "cell_type": "code",
   "execution_count": null,
   "metadata": {},
   "outputs": [],
   "source": [
    "def initialise_q(grid: Grid, actions: list) -> dict:\n",
    "    q = {}\n",
    "    for x in range(grid.x_size):\n",
    "        for y in range(grid.y_size):\n",
    "            q[(x, y)] = {}\n",
    "            for action in actions:\n",
    "                q[(x, y)][action] = 0.\n",
    "    return q"
   ]
  },
  {
   "cell_type": "code",
   "execution_count": null,
   "metadata": {},
   "outputs": [],
   "source": [
    "def choose_action(eta: float, q: dict, state: tuple, actions: list) -> int:\n",
    "    next_action_choices = [\"random\", \"argmax\"]\n",
    "    choice = np.random.choice(next_action_choices, 1, p=[eta, 1-eta])\n",
    "    if choice == \"random\":\n",
    "        action = np.random.choice(actions, 1)[0]\n",
    "    elif choice == \"argmax\":\n",
    "        action = np.argmax(list(q[state].values()))\n",
    "    return action"
   ]
  },
  {
   "cell_type": "code",
   "execution_count": null,
   "metadata": {},
   "outputs": [],
   "source": [
    "def get_xy_direction(arrow):\n",
    "    if arrow == 0:\n",
    "        direction = Direction(0, -1)\n",
    "    elif arrow == 1:\n",
    "        direction = Direction(0, 1)\n",
    "    elif arrow == 2:\n",
    "        direction = Direction(1, 0)\n",
    "    elif arrow == 3:\n",
    "        direction = Direction(-1, 0)\n",
    "    return direction"
   ]
  },
  {
   "cell_type": "code",
   "execution_count": null,
   "metadata": {},
   "outputs": [],
   "source": [
    "def get_q_arr(q_star):\n",
    "    q_star_arr = np.zeros((5, 5))\n",
    "    states = list(q_star.keys())\n",
    "    for state in states:\n",
    "        directions = list(q_star[state].keys())\n",
    "        for direction in directions:\n",
    "            q_val = np.round(q_star[state][direction])\n",
    "            q_star_arr[state[1]][state[0]] = q_val\n",
    "    return q_star_arr"
   ]
  },
  {
   "cell_type": "code",
   "execution_count": null,
   "metadata": {},
   "outputs": [],
   "source": [
    "def q_learning(grid: Grid, actions: list, alpha: float, eta: float, gamma: float, episodes: int, N: int) -> dict:\n",
    "    q = initialise_q(grid, actions) # Initialize q_table \n",
    "    states = list(q.keys())\n",
    "    for i in range(episodes):\n",
    "        state = random.choice(states) # Initialise state with random starting point\n",
    "        for j in range(N):\n",
    "            action = choose_action(eta, q, state, actions)\n",
    "            next_state, reward = move(state, action)\n",
    "            next_action = np.argmax(list(q[next_state].values()))\n",
    "            q[state][action] = q[state][action] + alpha * (reward + gamma * (q[next_state][next_action]) - q[state][action])\n",
    "            state = next_state\n",
    "    return q"
   ]
  },
  {
   "cell_type": "code",
   "execution_count": null,
   "metadata": {},
   "outputs": [],
   "source": [
    "def plot_gridworld_results(q_star, q_star_arr):\n",
    "    fig, axs = plt.subplots(1, 2)\n",
    "    fig.set_size_inches(15, 7)\n",
    "    fig.suptitle(fr\"Gridworld states and directions, using Q-Learning\")\n",
    "    fig.supxlabel(\"x\")\n",
    "    fig.supylabel(\"y\")\n",
    "    axs[0].set_title(fr\"$q_*$\")\n",
    "    axs[1].set_title(fr\"$\\pi_* directions$\")\n",
    "    sns.heatmap(q_star_arr, cmap='Spectral', annot=True, ax=axs[0])\n",
    "    plt.imshow(q_star_arr, cmap='Spectral')\n",
    "    states = list(q_star.keys())\n",
    "    for state in states:\n",
    "        arrows = np.argwhere(list(q_star[state].values()) == np.amax(list(q_star[state].values()))).flatten().tolist()\n",
    "        for arrow in arrows:\n",
    "            direction = get_xy_direction(arrow)\n",
    "            plt.quiver(state[0], state[1], direction.x, -direction.y)\n",
    "    plt.show()"
   ]
  },
  {
   "cell_type": "code",
   "execution_count": null,
   "metadata": {},
   "outputs": [],
   "source": [
    "eta = 0.1\n",
    "alpha = 0.2\n",
    "gamma = 0.9\n",
    "episodes = 1000\n",
    "N = 1000\n",
    "actions = [0, 1, 2, 3] #Define actions: North, South, East, West\n",
    "grid = Grid(x_min=0, x_max=4, y_min=0, y_max=4, x_size=5, y_size=5) #Define a 5 x 5 grid."
   ]
  },
  {
   "cell_type": "code",
   "execution_count": null,
   "metadata": {},
   "outputs": [],
   "source": [
    "q_star = q_learning(grid, actions, alpha, eta, gamma, episodes, N)\n",
    "q_star_arr = get_q_arr(q_star)\n",
    "plot_gridworld_results(q_star, q_star_arr)"
   ]
  },
  {
   "cell_type": "code",
   "execution_count": null,
   "metadata": {},
   "outputs": [],
   "source": []
  },
  {
   "cell_type": "code",
   "execution_count": null,
   "metadata": {},
   "outputs": [],
   "source": []
  }
 ],
 "metadata": {
  "kernelspec": {
   "display_name": "Python 3.9.6 64-bit",
   "language": "python",
   "name": "python3"
  },
  "language_info": {
   "name": "python",
   "version": "3.9.6"
  },
  "orig_nbformat": 4,
  "vscode": {
   "interpreter": {
    "hash": "b0fa6594d8f4cbf19f97940f81e996739fb7646882a419484c72d19e05852a7e"
   }
  }
 },
 "nbformat": 4,
 "nbformat_minor": 2
}
